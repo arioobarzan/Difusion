{
 "cells": [
  {
   "cell_type": "code",
   "execution_count": null,
   "id": "97df0ef6",
   "metadata": {},
   "outputs": [],
   "source": [
    "pip install -U git+https://github.com/huggingface/diffusers.git\n",
    "pip install -U controlnet_aux==0.0.7 # for conditioning models and detectors  \n",
    "pip install transformers accelerate safetensors"
   ]
  },
  {
   "cell_type": "code",
   "execution_count": 2,
   "id": "0686d7d7",
   "metadata": {},
   "outputs": [],
   "source": [
    "from diffusers import StableDiffusionXLAdapterPipeline, T2IAdapter, EulerAncestralDiscreteScheduler, AutoencoderKL\n",
    "from diffusers.utils import load_image, make_image_grid\n",
    "from controlnet_aux.pidi import PidiNetDetector\n",
    "import torch"
   ]
  },
  {
   "cell_type": "code",
   "execution_count": null,
   "id": "a3c54bd5",
   "metadata": {},
   "outputs": [
    {
     "name": "stderr",
     "output_type": "stream",
     "text": [
      "Downloading (…)lve/main/config.json: 100%|██████████| 279/279 [00:00<00:00, 55.7kB/s]\n",
      "Downloading (…)ch_model.safetensors:  40%|███▉      | 126M/316M [07:17<10:38, 298kB/s] "
     ]
    }
   ],
   "source": [
    "# load adapter\n",
    "adapter = T2IAdapter.from_pretrained(\n",
    "  \"TencentARC/t2i-adapter-sketch-sdxl-1.0\", torch_dtype=torch.float16, varient=\"fp16\"\n",
    ").to(\"cuda\")"
   ]
  },
  {
   "cell_type": "code",
   "execution_count": null,
   "id": "64c1d294",
   "metadata": {},
   "outputs": [],
   "source": [
    "\n",
    "# load euler_a scheduler\n",
    "model_id = 'stabilityai/stable-diffusion-xl-base-1.0'\n",
    "euler_a = EulerAncestralDiscreteScheduler.from_pretrained(model_id, subfolder=\"scheduler\")\n",
    "vae=AutoencoderKL.from_pretrained(\"madebyollin/sdxl-vae-fp16-fix\", torch_dtype=torch.float16)\n",
    "pipe = StableDiffusionXLAdapterPipeline.from_pretrained(\n",
    "    model_id, vae=vae, adapter=adapter, scheduler=euler_a, torch_dtype=torch.float16, variant=\"fp16\", \n",
    ").to(\"cuda\")\n",
    "pipe.enable_xformers_memory_efficient_attention()\n",
    "\n",
    "pidinet = PidiNetDetector.from_pretrained(\"lllyasviel/Annotators\").to(\"cuda\")"
   ]
  },
  {
   "cell_type": "code",
   "execution_count": null,
   "id": "41174aea",
   "metadata": {},
   "outputs": [],
   "source": [
    "url = \"https://huggingface.co/Adapter/t2iadapter/resolve/main/figs_SDXLV1.0/org_sketch.png\"\n",
    "image = load_image(url)\n",
    "image = pidinet(\n",
    "  image, detect_resolution=1024, image_resolution=1024, apply_filter=True\n",
    ")"
   ]
  },
  {
   "cell_type": "code",
   "execution_count": null,
   "id": "515e4ff8",
   "metadata": {},
   "outputs": [],
   "source": [
    "prompt = \"a robot, mount fuji in the background, 4k photo, highly detailed\"\n",
    "negative_prompt = \"extra digit, fewer digits, cropped, worst quality, low quality, glitch, deformed, mutated, ugly, disfigured\"\n",
    "\n",
    "gen_images = pipe(\n",
    "    prompt=prompt,\n",
    "    negative_prompt=negative_prompt,\n",
    "    image=image,\n",
    "    num_inference_steps=30,\n",
    "    adapter_conditioning_scale=0.9,\n",
    "    guidance_scale=7.5, \n",
    ").images[0]\n",
    "gen_images.save('out_sketch.png')"
   ]
  }
 ],
 "metadata": {
  "kernelspec": {
   "display_name": "Python 3 (ipykernel)",
   "language": "python",
   "name": "python3"
  },
  "language_info": {
   "codemirror_mode": {
    "name": "ipython",
    "version": 3
   },
   "file_extension": ".py",
   "mimetype": "text/x-python",
   "name": "python",
   "nbconvert_exporter": "python",
   "pygments_lexer": "ipython3",
   "version": "3.10.13"
  }
 },
 "nbformat": 4,
 "nbformat_minor": 5
}
