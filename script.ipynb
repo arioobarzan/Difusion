{
 "cells": [
  {
   "cell_type": "code",
   "execution_count": 1,
   "id": "97df0ef6",
   "metadata": {},
   "outputs": [
    {
     "name": "stdout",
     "output_type": "stream",
     "text": [
      "Looking in indexes: https://pypi.org/simple, https://pypi.ngc.nvidia.com\n",
      "Collecting git+https://github.com/huggingface/diffusers.git\n",
      "  Cloning https://github.com/huggingface/diffusers.git to c:\\users\\platinum\\appdata\\local\\temp\\pip-req-build-10h9ya16\n",
      "  Resolved https://github.com/huggingface/diffusers.git to commit f912f39b50f87e50a9d99346f5c1b6e644653262\n",
      "  Installing build dependencies: started\n",
      "  Installing build dependencies: finished with status 'done'\n",
      "  Getting requirements to build wheel: started\n",
      "  Getting requirements to build wheel: finished with status 'done'\n",
      "  Preparing metadata (pyproject.toml): started\n",
      "  Preparing metadata (pyproject.toml): finished with status 'done'\n",
      "Requirement already satisfied: importlib-metadata in c:\\users\\platinum\\anaconda3\\envs\\ali\\lib\\site-packages (from diffusers==0.22.0.dev0) (6.8.0)\n",
      "Requirement already satisfied: filelock in c:\\users\\platinum\\anaconda3\\envs\\ali\\lib\\site-packages (from diffusers==0.22.0.dev0) (3.12.4)\n",
      "Requirement already satisfied: huggingface-hub>=0.13.2 in c:\\users\\platinum\\anaconda3\\envs\\ali\\lib\\site-packages (from diffusers==0.22.0.dev0) (0.17.3)\n",
      "Requirement already satisfied: numpy in c:\\users\\platinum\\anaconda3\\envs\\ali\\lib\\site-packages (from diffusers==0.22.0.dev0) (1.26.0)\n",
      "Requirement already satisfied: regex!=2019.12.17 in c:\\users\\platinum\\anaconda3\\envs\\ali\\lib\\site-packages (from diffusers==0.22.0.dev0) (2023.10.3)\n",
      "Requirement already satisfied: requests in c:\\users\\platinum\\anaconda3\\envs\\ali\\lib\\site-packages (from diffusers==0.22.0.dev0) (2.31.0)\n",
      "Requirement already satisfied: safetensors>=0.3.1 in c:\\users\\platinum\\anaconda3\\envs\\ali\\lib\\site-packages (from diffusers==0.22.0.dev0) (0.4.0)\n",
      "Requirement already satisfied: Pillow in c:\\users\\platinum\\anaconda3\\envs\\ali\\lib\\site-packages (from diffusers==0.22.0.dev0) (10.0.1)\n",
      "Requirement already satisfied: fsspec in c:\\users\\platinum\\anaconda3\\envs\\ali\\lib\\site-packages (from huggingface-hub>=0.13.2->diffusers==0.22.0.dev0) (2023.10.0)\n",
      "Requirement already satisfied: tqdm>=4.42.1 in c:\\users\\platinum\\anaconda3\\envs\\ali\\lib\\site-packages (from huggingface-hub>=0.13.2->diffusers==0.22.0.dev0) (4.66.1)\n",
      "Requirement already satisfied: pyyaml>=5.1 in c:\\users\\platinum\\anaconda3\\envs\\ali\\lib\\site-packages (from huggingface-hub>=0.13.2->diffusers==0.22.0.dev0) (6.0.1)\n",
      "Requirement already satisfied: typing-extensions>=3.7.4.3 in c:\\users\\platinum\\anaconda3\\envs\\ali\\lib\\site-packages (from huggingface-hub>=0.13.2->diffusers==0.22.0.dev0) (4.7.1)\n",
      "Requirement already satisfied: packaging>=20.9 in c:\\users\\platinum\\anaconda3\\envs\\ali\\lib\\site-packages (from huggingface-hub>=0.13.2->diffusers==0.22.0.dev0) (23.1)\n",
      "Requirement already satisfied: zipp>=0.5 in c:\\users\\platinum\\anaconda3\\envs\\ali\\lib\\site-packages (from importlib-metadata->diffusers==0.22.0.dev0) (3.17.0)\n",
      "Requirement already satisfied: charset-normalizer<4,>=2 in c:\\users\\platinum\\anaconda3\\envs\\ali\\lib\\site-packages (from requests->diffusers==0.22.0.dev0) (2.0.4)\n",
      "Requirement already satisfied: idna<4,>=2.5 in c:\\users\\platinum\\anaconda3\\envs\\ali\\lib\\site-packages (from requests->diffusers==0.22.0.dev0) (3.4)\n",
      "Requirement already satisfied: urllib3<3,>=1.21.1 in c:\\users\\platinum\\anaconda3\\envs\\ali\\lib\\site-packages (from requests->diffusers==0.22.0.dev0) (1.26.18)\n",
      "Requirement already satisfied: certifi>=2017.4.17 in c:\\users\\platinum\\anaconda3\\envs\\ali\\lib\\site-packages (from requests->diffusers==0.22.0.dev0) (2023.7.22)\n",
      "Requirement already satisfied: colorama in c:\\users\\platinum\\anaconda3\\envs\\ali\\lib\\site-packages (from tqdm>=4.42.1->huggingface-hub>=0.13.2->diffusers==0.22.0.dev0) (0.4.6)\n"
     ]
    },
    {
     "name": "stderr",
     "output_type": "stream",
     "text": [
      "  Running command git clone --filter=blob:none --quiet https://github.com/huggingface/diffusers.git 'C:\\Users\\Platinum\\AppData\\Local\\Temp\\pip-req-build-10h9ya16'\n"
     ]
    },
    {
     "name": "stdout",
     "output_type": "stream",
     "text": [
      "Looking in indexes: https://pypi.org/simple, https://pypi.ngc.nvidia.com\n",
      "Requirement already satisfied: controlnet_aux==0.0.7 in c:\\users\\platinum\\anaconda3\\envs\\ali\\lib\\site-packages (0.0.7)\n",
      "Requirement already satisfied: torch in c:\\users\\platinum\\anaconda3\\envs\\ali\\lib\\site-packages (from controlnet_aux==0.0.7) (2.0.1)\n",
      "Requirement already satisfied: importlib-metadata in c:\\users\\platinum\\anaconda3\\envs\\ali\\lib\\site-packages (from controlnet_aux==0.0.7) (6.8.0)\n",
      "Requirement already satisfied: huggingface-hub in c:\\users\\platinum\\anaconda3\\envs\\ali\\lib\\site-packages (from controlnet_aux==0.0.7) (0.17.3)\n",
      "Requirement already satisfied: scipy in c:\\users\\platinum\\anaconda3\\envs\\ali\\lib\\site-packages (from controlnet_aux==0.0.7) (1.11.3)\n",
      "Requirement already satisfied: opencv-python in c:\\users\\platinum\\anaconda3\\envs\\ali\\lib\\site-packages (from controlnet_aux==0.0.7) (4.8.1.78)\n",
      "Requirement already satisfied: filelock in c:\\users\\platinum\\anaconda3\\envs\\ali\\lib\\site-packages (from controlnet_aux==0.0.7) (3.12.4)\n",
      "Requirement already satisfied: numpy in c:\\users\\platinum\\anaconda3\\envs\\ali\\lib\\site-packages (from controlnet_aux==0.0.7) (1.26.0)\n",
      "Requirement already satisfied: Pillow in c:\\users\\platinum\\anaconda3\\envs\\ali\\lib\\site-packages (from controlnet_aux==0.0.7) (10.0.1)\n",
      "Requirement already satisfied: einops in c:\\users\\platinum\\anaconda3\\envs\\ali\\lib\\site-packages (from controlnet_aux==0.0.7) (0.7.0)\n",
      "Requirement already satisfied: torchvision in c:\\users\\platinum\\anaconda3\\envs\\ali\\lib\\site-packages (from controlnet_aux==0.0.7) (0.15.2)\n",
      "Requirement already satisfied: timm in c:\\users\\platinum\\anaconda3\\envs\\ali\\lib\\site-packages (from controlnet_aux==0.0.7) (0.9.8)\n",
      "Requirement already satisfied: scikit-image in c:\\users\\platinum\\anaconda3\\envs\\ali\\lib\\site-packages (from controlnet_aux==0.0.7) (0.22.0)\n",
      "Requirement already satisfied: fsspec in c:\\users\\platinum\\anaconda3\\envs\\ali\\lib\\site-packages (from huggingface-hub->controlnet_aux==0.0.7) (2023.10.0)\n",
      "Requirement already satisfied: requests in c:\\users\\platinum\\anaconda3\\envs\\ali\\lib\\site-packages (from huggingface-hub->controlnet_aux==0.0.7) (2.31.0)\n",
      "Requirement already satisfied: tqdm>=4.42.1 in c:\\users\\platinum\\anaconda3\\envs\\ali\\lib\\site-packages (from huggingface-hub->controlnet_aux==0.0.7) (4.66.1)\n",
      "Requirement already satisfied: pyyaml>=5.1 in c:\\users\\platinum\\anaconda3\\envs\\ali\\lib\\site-packages (from huggingface-hub->controlnet_aux==0.0.7) (6.0.1)\n",
      "Requirement already satisfied: typing-extensions>=3.7.4.3 in c:\\users\\platinum\\anaconda3\\envs\\ali\\lib\\site-packages (from huggingface-hub->controlnet_aux==0.0.7) (4.7.1)\n",
      "Requirement already satisfied: packaging>=20.9 in c:\\users\\platinum\\anaconda3\\envs\\ali\\lib\\site-packages (from huggingface-hub->controlnet_aux==0.0.7) (23.1)\n",
      "Requirement already satisfied: zipp>=0.5 in c:\\users\\platinum\\anaconda3\\envs\\ali\\lib\\site-packages (from importlib-metadata->controlnet_aux==0.0.7) (3.17.0)\n",
      "Requirement already satisfied: networkx>=2.8 in c:\\users\\platinum\\anaconda3\\envs\\ali\\lib\\site-packages (from scikit-image->controlnet_aux==0.0.7) (3.1)\n",
      "Requirement already satisfied: imageio>=2.27 in c:\\users\\platinum\\anaconda3\\envs\\ali\\lib\\site-packages (from scikit-image->controlnet_aux==0.0.7) (2.31.6)\n",
      "Requirement already satisfied: tifffile>=2022.8.12 in c:\\users\\platinum\\anaconda3\\envs\\ali\\lib\\site-packages (from scikit-image->controlnet_aux==0.0.7) (2023.9.26)\n",
      "Requirement already satisfied: lazy_loader>=0.3 in c:\\users\\platinum\\anaconda3\\envs\\ali\\lib\\site-packages (from scikit-image->controlnet_aux==0.0.7) (0.3)\n",
      "Requirement already satisfied: safetensors in c:\\users\\platinum\\anaconda3\\envs\\ali\\lib\\site-packages (from timm->controlnet_aux==0.0.7) (0.4.0)\n",
      "Requirement already satisfied: sympy in c:\\users\\platinum\\anaconda3\\envs\\ali\\lib\\site-packages (from torch->controlnet_aux==0.0.7) (1.11.1)\n",
      "Requirement already satisfied: jinja2 in c:\\users\\platinum\\anaconda3\\envs\\ali\\lib\\site-packages (from torch->controlnet_aux==0.0.7) (3.1.2)\n",
      "Requirement already satisfied: colorama in c:\\users\\platinum\\anaconda3\\envs\\ali\\lib\\site-packages (from tqdm>=4.42.1->huggingface-hub->controlnet_aux==0.0.7) (0.4.6)\n",
      "Requirement already satisfied: MarkupSafe>=2.0 in c:\\users\\platinum\\anaconda3\\envs\\ali\\lib\\site-packages (from jinja2->torch->controlnet_aux==0.0.7) (2.1.1)\n",
      "Requirement already satisfied: charset-normalizer<4,>=2 in c:\\users\\platinum\\anaconda3\\envs\\ali\\lib\\site-packages (from requests->huggingface-hub->controlnet_aux==0.0.7) (2.0.4)\n",
      "Requirement already satisfied: idna<4,>=2.5 in c:\\users\\platinum\\anaconda3\\envs\\ali\\lib\\site-packages (from requests->huggingface-hub->controlnet_aux==0.0.7) (3.4)\n",
      "Requirement already satisfied: urllib3<3,>=1.21.1 in c:\\users\\platinum\\anaconda3\\envs\\ali\\lib\\site-packages (from requests->huggingface-hub->controlnet_aux==0.0.7) (1.26.18)\n",
      "Requirement already satisfied: certifi>=2017.4.17 in c:\\users\\platinum\\anaconda3\\envs\\ali\\lib\\site-packages (from requests->huggingface-hub->controlnet_aux==0.0.7) (2023.7.22)\n",
      "Requirement already satisfied: mpmath>=0.19 in c:\\users\\platinum\\anaconda3\\envs\\ali\\lib\\site-packages (from sympy->torch->controlnet_aux==0.0.7) (1.3.0)\n",
      "Looking in indexes: https://pypi.org/simple, https://pypi.ngc.nvidia.com\n",
      "Requirement already satisfied: transformers in c:\\users\\platinum\\anaconda3\\envs\\ali\\lib\\site-packages (4.34.1)\n",
      "Requirement already satisfied: accelerate in c:\\users\\platinum\\anaconda3\\envs\\ali\\lib\\site-packages (0.24.0)\n",
      "Requirement already satisfied: safetensors in c:\\users\\platinum\\anaconda3\\envs\\ali\\lib\\site-packages (0.4.0)\n",
      "Requirement already satisfied: filelock in c:\\users\\platinum\\anaconda3\\envs\\ali\\lib\\site-packages (from transformers) (3.12.4)\n",
      "Requirement already satisfied: huggingface-hub<1.0,>=0.16.4 in c:\\users\\platinum\\anaconda3\\envs\\ali\\lib\\site-packages (from transformers) (0.17.3)\n",
      "Requirement already satisfied: numpy>=1.17 in c:\\users\\platinum\\anaconda3\\envs\\ali\\lib\\site-packages (from transformers) (1.26.0)\n",
      "Requirement already satisfied: packaging>=20.0 in c:\\users\\platinum\\anaconda3\\envs\\ali\\lib\\site-packages (from transformers) (23.1)\n",
      "Requirement already satisfied: pyyaml>=5.1 in c:\\users\\platinum\\anaconda3\\envs\\ali\\lib\\site-packages (from transformers) (6.0.1)\n",
      "Requirement already satisfied: regex!=2019.12.17 in c:\\users\\platinum\\anaconda3\\envs\\ali\\lib\\site-packages (from transformers) (2023.10.3)\n",
      "Requirement already satisfied: requests in c:\\users\\platinum\\anaconda3\\envs\\ali\\lib\\site-packages (from transformers) (2.31.0)\n",
      "Requirement already satisfied: tokenizers<0.15,>=0.14 in c:\\users\\platinum\\anaconda3\\envs\\ali\\lib\\site-packages (from transformers) (0.14.1)\n",
      "Requirement already satisfied: tqdm>=4.27 in c:\\users\\platinum\\anaconda3\\envs\\ali\\lib\\site-packages (from transformers) (4.66.1)\n",
      "Requirement already satisfied: psutil in c:\\users\\platinum\\anaconda3\\envs\\ali\\lib\\site-packages (from accelerate) (5.9.0)\n",
      "Requirement already satisfied: torch>=1.10.0 in c:\\users\\platinum\\anaconda3\\envs\\ali\\lib\\site-packages (from accelerate) (2.0.1)\n",
      "Requirement already satisfied: fsspec in c:\\users\\platinum\\anaconda3\\envs\\ali\\lib\\site-packages (from huggingface-hub<1.0,>=0.16.4->transformers) (2023.10.0)\n",
      "Requirement already satisfied: typing-extensions>=3.7.4.3 in c:\\users\\platinum\\anaconda3\\envs\\ali\\lib\\site-packages (from huggingface-hub<1.0,>=0.16.4->transformers) (4.7.1)\n",
      "Requirement already satisfied: sympy in c:\\users\\platinum\\anaconda3\\envs\\ali\\lib\\site-packages (from torch>=1.10.0->accelerate) (1.11.1)\n",
      "Requirement already satisfied: networkx in c:\\users\\platinum\\anaconda3\\envs\\ali\\lib\\site-packages (from torch>=1.10.0->accelerate) (3.1)\n",
      "Requirement already satisfied: jinja2 in c:\\users\\platinum\\anaconda3\\envs\\ali\\lib\\site-packages (from torch>=1.10.0->accelerate) (3.1.2)\n",
      "Requirement already satisfied: colorama in c:\\users\\platinum\\anaconda3\\envs\\ali\\lib\\site-packages (from tqdm>=4.27->transformers) (0.4.6)\n",
      "Requirement already satisfied: charset-normalizer<4,>=2 in c:\\users\\platinum\\anaconda3\\envs\\ali\\lib\\site-packages (from requests->transformers) (2.0.4)\n",
      "Requirement already satisfied: idna<4,>=2.5 in c:\\users\\platinum\\anaconda3\\envs\\ali\\lib\\site-packages (from requests->transformers) (3.4)\n",
      "Requirement already satisfied: urllib3<3,>=1.21.1 in c:\\users\\platinum\\anaconda3\\envs\\ali\\lib\\site-packages (from requests->transformers) (1.26.18)\n",
      "Requirement already satisfied: certifi>=2017.4.17 in c:\\users\\platinum\\anaconda3\\envs\\ali\\lib\\site-packages (from requests->transformers) (2023.7.22)\n",
      "Requirement already satisfied: MarkupSafe>=2.0 in c:\\users\\platinum\\anaconda3\\envs\\ali\\lib\\site-packages (from jinja2->torch>=1.10.0->accelerate) (2.1.1)\n",
      "Requirement already satisfied: mpmath>=0.19 in c:\\users\\platinum\\anaconda3\\envs\\ali\\lib\\site-packages (from sympy->torch>=1.10.0->accelerate) (1.3.0)\n"
     ]
    }
   ],
   "source": [
    "!pip install -U git+https://github.com/huggingface/diffusers.git\n",
    "!pip install -U controlnet_aux==0.0.7 \n",
    "!pip install transformers accelerate safetensors"
   ]
  },
  {
   "cell_type": "code",
   "execution_count": 1,
   "id": "bb9088ed",
   "metadata": {},
   "outputs": [
    {
     "name": "stderr",
     "output_type": "stream",
     "text": [
      "C:\\Users\\Platinum\\anaconda3\\envs\\cuda_venv\\Lib\\site-packages\\tqdm\\auto.py:21: TqdmWarning: IProgress not found. Please update jupyter and ipywidgets. See https://ipywidgets.readthedocs.io/en/stable/user_install.html\n",
      "  from .autonotebook import tqdm as notebook_tqdm\n"
     ]
    }
   ],
   "source": [
    "from diffusers import StableDiffusionXLAdapterPipeline, T2IAdapter, EulerAncestralDiscreteScheduler, AutoencoderKL\n",
    "from diffusers.utils import load_image, make_image_grid\n",
    "from controlnet_aux.pidi import PidiNetDetector\n",
    "import torch"
   ]
  },
  {
   "cell_type": "code",
   "execution_count": 3,
   "id": "6c63cf94",
   "metadata": {},
   "outputs": [],
   "source": [
    "# load adapter\n",
    "adapter = T2IAdapter.from_pretrained(\n",
    "  \"TencentARC/t2i-adapter-sketch-sdxl-1.0\", torch_dtype=torch.float, varient=\"fp16\"\n",
    ").to(\"cpu\")"
   ]
  },
  {
   "cell_type": "code",
   "execution_count": 8,
   "id": "bd8d09ff",
   "metadata": {},
   "outputs": [
    {
     "name": "stderr",
     "output_type": "stream",
     "text": [
      "Loading pipeline components...: 100%|██████████| 7/7 [00:33<00:00,  4.82s/it]\n"
     ]
    }
   ],
   "source": [
    "\n",
    "# load euler_a scheduler\n",
    "model_id = 'stabilityai/stable-diffusion-xl-base-1.0'\n",
    "euler_a = EulerAncestralDiscreteScheduler.from_pretrained(model_id, subfolder=\"scheduler\")\n",
    "vae=AutoencoderKL.from_pretrained(\"madebyollin/sdxl-vae-fp16-fix\", torch_dtype=torch.float)\n",
    "pipe = StableDiffusionXLAdapterPipeline.from_pretrained(\n",
    "    model_id, vae=vae, adapter=adapter, scheduler=euler_a, torch_dtype=torch.float, variant=\"fp16\", \n",
    ").to(\"cpu\")\n",
    "#pipe.enable_xformers_memory_efficient_attention()\n",
    "\n",
    "pidinet = PidiNetDetector.from_pretrained(\"lllyasviel/Annotators\").to(\"cpu\")"
   ]
  },
  {
   "cell_type": "code",
   "execution_count": 9,
   "id": "ebe0e810",
   "metadata": {},
   "outputs": [],
   "source": [
    "url = \"https://huggingface.co/Adapter/t2iadapter/resolve/main/figs_SDXLV1.0/org_sketch.png\"\n",
    "image = load_image(url)\n",
    "image = pidinet(\n",
    "  image, detect_resolution=1024, image_resolution=1024, apply_filter=True\n",
    ")"
   ]
  },
  {
   "cell_type": "code",
   "execution_count": 10,
   "id": "98a74d99",
   "metadata": {},
   "outputs": [
    {
     "name": "stderr",
     "output_type": "stream",
     "text": [
      "100%|██████████| 30/30 [48:42<00:00, 97.41s/it] \n"
     ]
    }
   ],
   "source": [
    "prompt = \"a robot, mount fuji in the background, 4k photo, highly detailed\"\n",
    "negative_prompt = \"extra digit, fewer digits, cropped, worst quality, low quality, glitch, deformed, mutated, ugly, disfigured\"\n",
    "\n",
    "gen_images = pipe(\n",
    "    prompt=prompt,\n",
    "    negative_prompt=negative_prompt,\n",
    "    image=image,\n",
    "    num_inference_steps=30,\n",
    "    adapter_conditioning_scale=0.9,\n",
    "    guidance_scale=7.5, \n",
    ").images[0]\n",
    "gen_images.save('out_sketch.png')"
   ]
  },
  {
   "cell_type": "code",
   "execution_count": 11,
   "id": "9d4ef4d5",
   "metadata": {},
   "outputs": [],
   "source": [
    "image2 = load_image(\"tree.jpg\")\n",
    "image2 = pidinet(\n",
    "  image2, detect_resolution=1024, image_resolution=1024, apply_filter=True\n",
    ")"
   ]
  },
  {
   "cell_type": "code",
   "execution_count": 13,
   "id": "83934972",
   "metadata": {},
   "outputs": [
    {
     "name": "stderr",
     "output_type": "stream",
     "text": [
      "100%|██████████| 10/10 [14:51<00:00, 89.19s/it]\n"
     ]
    }
   ],
   "source": [
    "prompt = \"a tree, mount in the background, 4k photo, highly detailed\"\n",
    "negative_prompt = \"\"\n",
    "\n",
    "gen_images = pipe(\n",
    "    prompt=prompt,\n",
    "    negative_prompt=negative_prompt,\n",
    "    image=image2,\n",
    "    num_inference_steps=10,\n",
    "    adapter_conditioning_scale=0.9,\n",
    "    guidance_scale=7.5, \n",
    ").images[0]\n",
    "gen_images.save('out_tree.png')"
   ]
  },
  {
   "cell_type": "code",
   "execution_count": 17,
   "id": "8cac9854",
   "metadata": {},
   "outputs": [
    {
     "name": "stderr",
     "output_type": "stream",
     "text": [
      "100%|██████████| 10/10 [12:41<00:00, 76.14s/it]\n"
     ]
    }
   ],
   "source": [
    "image2 = load_image(\"manga.jpeg\")\n",
    "image2 = pidinet(\n",
    "  image2, detect_resolution=1024, image_resolution=1024, apply_filter=True\n",
    ")\n",
    "prompt = \"a manga, purple jacket, blonde, green eyes, 4k photo, highly detailed\"\n",
    "negative_prompt = \"\"\n",
    "\n",
    "gen_images = pipe(\n",
    "    prompt=prompt,\n",
    "    negative_prompt=negative_prompt,\n",
    "    image=image2,\n",
    "    num_inference_steps=10,\n",
    "    adapter_conditioning_scale=0.9,\n",
    "    guidance_scale=7.5, \n",
    ").images[0]\n",
    "gen_images.save('out_manga.png')"
   ]
  }
 ],
 "metadata": {
  "kernelspec": {
   "display_name": "Python 3 (ipykernel)",
   "language": "python",
   "name": "python3"
  },
  "language_info": {
   "codemirror_mode": {
    "name": "ipython",
    "version": 3
   },
   "file_extension": ".py",
   "mimetype": "text/x-python",
   "name": "python",
   "nbconvert_exporter": "python",
   "pygments_lexer": "ipython3",
   "version": "3.11.5"
  }
 },
 "nbformat": 4,
 "nbformat_minor": 5
}
