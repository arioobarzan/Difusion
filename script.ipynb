{
 "cells": [
  {
   "cell_type": "code",
   "execution_count": 1,
   "id": "c3ee2c4d",
   "metadata": {},
   "outputs": [
    {
     "name": "stdout",
     "output_type": "stream",
     "text": [
      "Looking in indexes: https://pypi.org/simple, https://pypi.ngc.nvidia.com\n",
      "Collecting git+https://github.com/huggingface/diffusers.git\n",
      "  Cloning https://github.com/huggingface/diffusers.git to c:\\users\\platinum\\appdata\\local\\temp\\pip-req-build-u5jxwpjj\n"
     ]
    },
    {
     "name": "stderr",
     "output_type": "stream",
     "text": [
      "  Running command git clone --filter=blob:none --quiet https://github.com/huggingface/diffusers.git 'C:\\Users\\Platinum\\AppData\\Local\\Temp\\pip-req-build-u5jxwpjj'\n",
      "  fatal: unable to access 'https://github.com/huggingface/diffusers.git/': Could not resolve host: github.com\n",
      "  error: subprocess-exited-with-error\n",
      "  \n",
      "  git clone --filter=blob:none --quiet https://github.com/huggingface/diffusers.git 'C:\\Users\\Platinum\\AppData\\Local\\Temp\\pip-req-build-u5jxwpjj' did not run successfully.\n",
      "  exit code: 128\n",
      "  \n",
      "  See above for output.\n",
      "  \n",
      "  note: This error originates from a subprocess, and is likely not a problem with pip.\n",
      "error: subprocess-exited-with-error\n",
      "\n",
      "git clone --filter=blob:none --quiet https://github.com/huggingface/diffusers.git 'C:\\Users\\Platinum\\AppData\\Local\\Temp\\pip-req-build-u5jxwpjj' did not run successfully.\n",
      "exit code: 128\n",
      "\n",
      "See above for output.\n",
      "\n",
      "note: This error originates from a subprocess, and is likely not a problem with pip.\n",
      "WARNING: There was an error checking the latest version of pip.\n"
     ]
    }
   ],
   "source": [
    "!pip install -U git+https://github.com/huggingface/diffusers.git\n"
   ]
  },
  {
   "cell_type": "code",
   "execution_count": 2,
   "id": "0895e25a",
   "metadata": {},
   "outputs": [
    {
     "name": "stdout",
     "output_type": "stream",
     "text": [
      "Looking in indexes: https://pypi.org/simple, https://pypi.ngc.nvidia.com\n"
     ]
    },
    {
     "name": "stderr",
     "output_type": "stream",
     "text": [
      "WARNING: Retrying (Retry(total=4, connect=None, read=None, redirect=None, status=None)) after connection broken by 'NewConnectionError('<pip._vendor.urllib3.connection.HTTPSConnection object at 0x0000014F6565E348>: Failed to establish a new connection: [Errno 11001] getaddrinfo failed')': /simple/controlnet-aux/\n",
      "WARNING: Retrying (Retry(total=3, connect=None, read=None, redirect=None, status=None)) after connection broken by 'NewConnectionError('<pip._vendor.urllib3.connection.HTTPSConnection object at 0x0000014F6565F1C8>: Failed to establish a new connection: [Errno 11001] getaddrinfo failed')': /simple/controlnet-aux/\n",
      "WARNING: Retrying (Retry(total=2, connect=None, read=None, redirect=None, status=None)) after connection broken by 'NewConnectionError('<pip._vendor.urllib3.connection.HTTPSConnection object at 0x0000014F65571C88>: Failed to establish a new connection: [Errno 11001] getaddrinfo failed')': /simple/controlnet-aux/\n",
      "WARNING: Retrying (Retry(total=1, connect=None, read=None, redirect=None, status=None)) after connection broken by 'NewConnectionError('<pip._vendor.urllib3.connection.HTTPSConnection object at 0x0000014F65661CC8>: Failed to establish a new connection: [Errno 11001] getaddrinfo failed')': /simple/controlnet-aux/\n",
      "WARNING: Retrying (Retry(total=0, connect=None, read=None, redirect=None, status=None)) after connection broken by 'NewConnectionError('<pip._vendor.urllib3.connection.HTTPSConnection object at 0x0000014F65661D48>: Failed to establish a new connection: [Errno 11001] getaddrinfo failed')': /simple/controlnet-aux/\n",
      "WARNING: Retrying (Retry(total=4, connect=None, read=None, redirect=None, status=None)) after connection broken by 'NewConnectionError('<pip._vendor.urllib3.connection.HTTPSConnection object at 0x0000014F65662188>: Failed to establish a new connection: [Errno 11001] getaddrinfo failed')': /controlnet-aux/\n",
      "WARNING: Retrying (Retry(total=3, connect=None, read=None, redirect=None, status=None)) after connection broken by 'NewConnectionError('<pip._vendor.urllib3.connection.HTTPSConnection object at 0x0000014F65665748>: Failed to establish a new connection: [Errno 11001] getaddrinfo failed')': /controlnet-aux/\n",
      "WARNING: Retrying (Retry(total=2, connect=None, read=None, redirect=None, status=None)) after connection broken by 'NewConnectionError('<pip._vendor.urllib3.connection.HTTPSConnection object at 0x0000014F65661FC8>: Failed to establish a new connection: [Errno 11001] getaddrinfo failed')': /controlnet-aux/\n",
      "WARNING: Retrying (Retry(total=1, connect=None, read=None, redirect=None, status=None)) after connection broken by 'NewConnectionError('<pip._vendor.urllib3.connection.HTTPSConnection object at 0x0000014F65661148>: Failed to establish a new connection: [Errno 11001] getaddrinfo failed')': /controlnet-aux/\n",
      "WARNING: Retrying (Retry(total=0, connect=None, read=None, redirect=None, status=None)) after connection broken by 'NewConnectionError('<pip._vendor.urllib3.connection.HTTPSConnection object at 0x0000014F6565F5C8>: Failed to establish a new connection: [Errno 11001] getaddrinfo failed')': /controlnet-aux/\n",
      "ERROR: Could not find a version that satisfies the requirement controlnet_aux==0.0.7 (from versions: none)\n",
      "ERROR: No matching distribution found for controlnet_aux==0.0.7\n",
      "WARNING: There was an error checking the latest version of pip.\n"
     ]
    }
   ],
   "source": [
    "!pip install -U controlnet_aux==0.0.7 \n"
   ]
  },
  {
   "cell_type": "code",
   "execution_count": null,
   "id": "97df0ef6",
   "metadata": {},
   "outputs": [],
   "source": [
    "!pip install transformers accelerate safetensors mediapipe"
   ]
  },
  {
   "cell_type": "code",
   "execution_count": 3,
   "id": "bb9088ed",
   "metadata": {},
   "outputs": [
    {
     "ename": "ImportError",
     "evalue": "cannot import name 'HF_HOME' from 'huggingface_hub.constants' (C:\\Users\\Platinum\\anaconda3\\envs\\cuda_venv\\Lib\\site-packages\\huggingface_hub\\constants.py)",
     "output_type": "error",
     "traceback": [
      "\u001b[1;31m---------------------------------------------------------------------------\u001b[0m",
      "\u001b[1;31mImportError\u001b[0m                               Traceback (most recent call last)",
      "Cell \u001b[1;32mIn[3], line 1\u001b[0m\n\u001b[1;32m----> 1\u001b[0m \u001b[38;5;28;01mfrom\u001b[39;00m \u001b[38;5;21;01mdiffusers\u001b[39;00m \u001b[38;5;28;01mimport\u001b[39;00m StableDiffusionXLAdapterPipeline, T2IAdapter, EulerAncestralDiscreteScheduler, AutoencoderKL\n\u001b[0;32m      2\u001b[0m \u001b[38;5;28;01mfrom\u001b[39;00m \u001b[38;5;21;01mdiffusers\u001b[39;00m\u001b[38;5;21;01m.\u001b[39;00m\u001b[38;5;21;01mutils\u001b[39;00m \u001b[38;5;28;01mimport\u001b[39;00m load_image, make_image_grid\n\u001b[0;32m      3\u001b[0m \u001b[38;5;28;01mfrom\u001b[39;00m \u001b[38;5;21;01mcontrolnet_aux\u001b[39;00m\u001b[38;5;21;01m.\u001b[39;00m\u001b[38;5;21;01mpidi\u001b[39;00m \u001b[38;5;28;01mimport\u001b[39;00m PidiNetDetector\n",
      "File \u001b[1;32m~\\anaconda3\\envs\\cuda_venv\\Lib\\site-packages\\diffusers\\__init__.py:5\u001b[0m\n\u001b[0;32m      1\u001b[0m __version__ \u001b[38;5;241m=\u001b[39m \u001b[38;5;124m\"\u001b[39m\u001b[38;5;124m0.22.0.dev0\u001b[39m\u001b[38;5;124m\"\u001b[39m\n\u001b[0;32m      3\u001b[0m \u001b[38;5;28;01mfrom\u001b[39;00m \u001b[38;5;21;01mtyping\u001b[39;00m \u001b[38;5;28;01mimport\u001b[39;00m TYPE_CHECKING\n\u001b[1;32m----> 5\u001b[0m \u001b[38;5;28;01mfrom\u001b[39;00m \u001b[38;5;21;01m.\u001b[39;00m\u001b[38;5;21;01mutils\u001b[39;00m \u001b[38;5;28;01mimport\u001b[39;00m (\n\u001b[0;32m      6\u001b[0m     DIFFUSERS_SLOW_IMPORT,\n\u001b[0;32m      7\u001b[0m     OptionalDependencyNotAvailable,\n\u001b[0;32m      8\u001b[0m     _LazyModule,\n\u001b[0;32m      9\u001b[0m     is_flax_available,\n\u001b[0;32m     10\u001b[0m     is_k_diffusion_available,\n\u001b[0;32m     11\u001b[0m     is_librosa_available,\n\u001b[0;32m     12\u001b[0m     is_note_seq_available,\n\u001b[0;32m     13\u001b[0m     is_onnx_available,\n\u001b[0;32m     14\u001b[0m     is_scipy_available,\n\u001b[0;32m     15\u001b[0m     is_torch_available,\n\u001b[0;32m     16\u001b[0m     is_torchsde_available,\n\u001b[0;32m     17\u001b[0m     is_transformers_available,\n\u001b[0;32m     18\u001b[0m )\n\u001b[0;32m     21\u001b[0m \u001b[38;5;66;03m# Lazy Import based on\u001b[39;00m\n\u001b[0;32m     22\u001b[0m \u001b[38;5;66;03m# https://github.com/huggingface/transformers/blob/main/src/transformers/__init__.py\u001b[39;00m\n\u001b[0;32m     23\u001b[0m \n\u001b[0;32m     24\u001b[0m \u001b[38;5;66;03m# When adding a new object to this init, please add it to `_import_structure`. The `_import_structure` is a dictionary submodule to list of object names,\u001b[39;00m\n\u001b[0;32m     25\u001b[0m \u001b[38;5;66;03m# and is used to defer the actual importing for when the objects are requested.\u001b[39;00m\n\u001b[0;32m     26\u001b[0m \u001b[38;5;66;03m# This way `import diffusers` provides the names in the namespace without actually importing anything (and especially none of the backends).\u001b[39;00m\n\u001b[0;32m     28\u001b[0m _import_structure \u001b[38;5;241m=\u001b[39m {\n\u001b[0;32m     29\u001b[0m     \u001b[38;5;124m\"\u001b[39m\u001b[38;5;124mconfiguration_utils\u001b[39m\u001b[38;5;124m\"\u001b[39m: [\u001b[38;5;124m\"\u001b[39m\u001b[38;5;124mConfigMixin\u001b[39m\u001b[38;5;124m\"\u001b[39m],\n\u001b[0;32m     30\u001b[0m     \u001b[38;5;124m\"\u001b[39m\u001b[38;5;124mmodels\u001b[39m\u001b[38;5;124m\"\u001b[39m: [],\n\u001b[1;32m   (...)\u001b[0m\n\u001b[0;32m     50\u001b[0m     ],\n\u001b[0;32m     51\u001b[0m }\n",
      "File \u001b[1;32m~\\anaconda3\\envs\\cuda_venv\\Lib\\site-packages\\diffusers\\utils\\__init__.py:21\u001b[0m\n\u001b[0;32m     18\u001b[0m \u001b[38;5;28;01mfrom\u001b[39;00m \u001b[38;5;21;01mpackaging\u001b[39;00m \u001b[38;5;28;01mimport\u001b[39;00m version\n\u001b[0;32m     20\u001b[0m \u001b[38;5;28;01mfrom\u001b[39;00m \u001b[38;5;21;01m.\u001b[39;00m\u001b[38;5;21;01m.\u001b[39;00m \u001b[38;5;28;01mimport\u001b[39;00m __version__\n\u001b[1;32m---> 21\u001b[0m \u001b[38;5;28;01mfrom\u001b[39;00m \u001b[38;5;21;01m.\u001b[39;00m\u001b[38;5;21;01mconstants\u001b[39;00m \u001b[38;5;28;01mimport\u001b[39;00m (\n\u001b[0;32m     22\u001b[0m     CONFIG_NAME,\n\u001b[0;32m     23\u001b[0m     DEPRECATED_REVISION_ARGS,\n\u001b[0;32m     24\u001b[0m     DIFFUSERS_CACHE,\n\u001b[0;32m     25\u001b[0m     DIFFUSERS_DYNAMIC_MODULE_NAME,\n\u001b[0;32m     26\u001b[0m     FLAX_WEIGHTS_NAME,\n\u001b[0;32m     27\u001b[0m     HF_MODULES_CACHE,\n\u001b[0;32m     28\u001b[0m     HUGGINGFACE_CO_RESOLVE_ENDPOINT,\n\u001b[0;32m     29\u001b[0m     MIN_PEFT_VERSION,\n\u001b[0;32m     30\u001b[0m     ONNX_EXTERNAL_WEIGHTS_NAME,\n\u001b[0;32m     31\u001b[0m     ONNX_WEIGHTS_NAME,\n\u001b[0;32m     32\u001b[0m     SAFETENSORS_WEIGHTS_NAME,\n\u001b[0;32m     33\u001b[0m     USE_PEFT_BACKEND,\n\u001b[0;32m     34\u001b[0m     WEIGHTS_NAME,\n\u001b[0;32m     35\u001b[0m )\n\u001b[0;32m     36\u001b[0m \u001b[38;5;28;01mfrom\u001b[39;00m \u001b[38;5;21;01m.\u001b[39;00m\u001b[38;5;21;01mdeprecation_utils\u001b[39;00m \u001b[38;5;28;01mimport\u001b[39;00m deprecate\n\u001b[0;32m     37\u001b[0m \u001b[38;5;28;01mfrom\u001b[39;00m \u001b[38;5;21;01m.\u001b[39;00m\u001b[38;5;21;01mdoc_utils\u001b[39;00m \u001b[38;5;28;01mimport\u001b[39;00m replace_example_docstring\n",
      "File \u001b[1;32m~\\anaconda3\\envs\\cuda_venv\\Lib\\site-packages\\diffusers\\utils\\constants.py:17\u001b[0m\n\u001b[0;32m     14\u001b[0m \u001b[38;5;28;01mimport\u001b[39;00m \u001b[38;5;21;01mimportlib\u001b[39;00m\n\u001b[0;32m     15\u001b[0m \u001b[38;5;28;01mimport\u001b[39;00m \u001b[38;5;21;01mos\u001b[39;00m\n\u001b[1;32m---> 17\u001b[0m \u001b[38;5;28;01mfrom\u001b[39;00m \u001b[38;5;21;01mhuggingface_hub\u001b[39;00m\u001b[38;5;21;01m.\u001b[39;00m\u001b[38;5;21;01mconstants\u001b[39;00m \u001b[38;5;28;01mimport\u001b[39;00m HUGGINGFACE_HUB_CACHE, hf_cache_home\n\u001b[0;32m     18\u001b[0m \u001b[38;5;28;01mfrom\u001b[39;00m \u001b[38;5;21;01mpackaging\u001b[39;00m \u001b[38;5;28;01mimport\u001b[39;00m version\n\u001b[0;32m     20\u001b[0m \u001b[38;5;28;01mfrom\u001b[39;00m \u001b[38;5;21;01m.\u001b[39;00m\u001b[38;5;21;01mimport_utils\u001b[39;00m \u001b[38;5;28;01mimport\u001b[39;00m is_peft_available, is_transformers_available\n",
      "\u001b[1;31mImportError\u001b[0m: cannot import name 'HF_HOME' from 'huggingface_hub.constants' (C:\\Users\\Platinum\\anaconda3\\envs\\cuda_venv\\Lib\\site-packages\\huggingface_hub\\constants.py)"
     ]
    }
   ],
   "source": [
    "from diffusers import StableDiffusionXLAdapterPipeline, T2IAdapter, EulerAncestralDiscreteScheduler, AutoencoderKL\n",
    "from diffusers.utils import load_image, make_image_grid\n",
    "from controlnet_aux.pidi import PidiNetDetector\n",
    "import torch"
   ]
  },
  {
   "cell_type": "code",
   "execution_count": 3,
   "id": "6c63cf94",
   "metadata": {},
   "outputs": [],
   "source": [
    "# load adapter\n",
    "adapter = T2IAdapter.from_pretrained(\n",
    "  \"TencentARC/t2i-adapter-sketch-sdxl-1.0\", torch_dtype=torch.float, varient=\"fp16\"\n",
    ").to(\"cpu\")"
   ]
  },
  {
   "cell_type": "code",
   "execution_count": 8,
   "id": "bd8d09ff",
   "metadata": {},
   "outputs": [
    {
     "name": "stderr",
     "output_type": "stream",
     "text": [
      "Loading pipeline components...: 100%|██████████| 7/7 [00:33<00:00,  4.82s/it]\n"
     ]
    }
   ],
   "source": [
    "\n",
    "# load euler_a scheduler\n",
    "model_id = 'stabilityai/stable-diffusion-xl-base-1.0'\n",
    "euler_a = EulerAncestralDiscreteScheduler.from_pretrained(model_id, subfolder=\"scheduler\")\n",
    "vae=AutoencoderKL.from_pretrained(\"madebyollin/sdxl-vae-fp16-fix\", torch_dtype=torch.float)\n",
    "pipe = StableDiffusionXLAdapterPipeline.from_pretrained(\n",
    "    model_id, vae=vae, adapter=adapter, scheduler=euler_a, torch_dtype=torch.float, variant=\"fp16\", \n",
    ").to(\"cpu\")\n",
    "#pipe.enable_xformers_memory_efficient_attention()\n",
    "\n",
    "pidinet = PidiNetDetector.from_pretrained(\"lllyasviel/Annotators\").to(\"cpu\")"
   ]
  },
  {
   "cell_type": "code",
   "execution_count": 10,
   "id": "98a74d99",
   "metadata": {},
   "outputs": [
    {
     "name": "stderr",
     "output_type": "stream",
     "text": [
      "100%|██████████| 30/30 [48:42<00:00, 97.41s/it] \n"
     ]
    }
   ],
   "source": [
    "url = \"https://huggingface.co/Adapter/t2iadapter/resolve/main/figs_SDXLV1.0/org_sketch.png\"\n",
    "image = load_image(url)\n",
    "image = pidinet(\n",
    "  image, detect_resolution=1024, image_resolution=1024, apply_filter=True\n",
    ")\n",
    "prompt = \"a robot, mount fuji in the background, 4k photo, highly detailed\"\n",
    "negative_prompt = \"extra digit, fewer digits, cropped, worst quality, low quality, glitch, deformed, mutated, ugly, disfigured\"\n",
    "\n",
    "gen_images = pipe(\n",
    "    prompt=prompt,\n",
    "    negative_prompt=negative_prompt,\n",
    "    image=image,\n",
    "    num_inference_steps=30,\n",
    "    adapter_conditioning_scale=0.9,\n",
    "    guidance_scale=7.5, \n",
    ").images[0]\n",
    "gen_images.save('out_sketch.png')"
   ]
  },
  {
   "cell_type": "code",
   "execution_count": 13,
   "id": "daf6abfa",
   "metadata": {},
   "outputs": [
    {
     "name": "stderr",
     "output_type": "stream",
     "text": [
      "100%|██████████| 10/10 [14:51<00:00, 89.19s/it]\n"
     ]
    }
   ],
   "source": [
    "image2 = load_image(\"tree.jpg\")\n",
    "image2 = pidinet(\n",
    "  image2, detect_resolution=1024, image_resolution=1024, apply_filter=True\n",
    ")\n",
    "prompt = \"a tree, mount in the background, 4k photo, highly detailed\"\n",
    "negative_prompt = \"\"\n",
    "\n",
    "gen_images = pipe(\n",
    "    prompt=prompt,\n",
    "    negative_prompt=negative_prompt,\n",
    "    image=image2,\n",
    "    num_inference_steps=10,\n",
    "    adapter_conditioning_scale=0.9,\n",
    "    guidance_scale=7.5, \n",
    ").images[0]\n",
    "gen_images.save('out_tree.png')"
   ]
  },
  {
   "cell_type": "code",
   "execution_count": 17,
   "id": "97a02689",
   "metadata": {},
   "outputs": [
    {
     "name": "stderr",
     "output_type": "stream",
     "text": [
      "100%|██████████| 10/10 [12:41<00:00, 76.14s/it]\n"
     ]
    }
   ],
   "source": [
    "image2 = load_image(\"manga.jpeg\")\n",
    "image2 = pidinet(\n",
    "  image2, detect_resolution=1024, image_resolution=1024, apply_filter=True\n",
    ")\n",
    "prompt = \"a manga, purple jacket, blonde, green eyes, 4k photo, highly detailed\"\n",
    "negative_prompt = \"\"\n",
    "\n",
    "gen_images = pipe(\n",
    "    prompt=prompt,\n",
    "    negative_prompt=negative_prompt,\n",
    "    image=image2,\n",
    "    num_inference_steps=10,\n",
    "    adapter_conditioning_scale=0.9,\n",
    "    guidance_scale=7.5, \n",
    ").images[0]\n",
    "gen_images.save('out_manga.png')"
   ]
  }
 ],
 "metadata": {
  "kernelspec": {
   "display_name": "Python 3 (ipykernel)",
   "language": "python",
   "name": "python3"
  },
  "language_info": {
   "codemirror_mode": {
    "name": "ipython",
    "version": 3
   },
   "file_extension": ".py",
   "mimetype": "text/x-python",
   "name": "python",
   "nbconvert_exporter": "python",
   "pygments_lexer": "ipython3",
   "version": "3.7.16"
  }
 },
 "nbformat": 4,
 "nbformat_minor": 5
}
