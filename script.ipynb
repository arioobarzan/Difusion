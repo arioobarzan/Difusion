{
 "cells": [
  {
   "cell_type": "code",
   "execution_count": null,
   "id": "97df0ef6",
   "metadata": {},
   "outputs": [],
   "source": [
    "pip install -U git+https://github.com/huggingface/diffusers.git\n",
    "pip install -U controlnet_aux==0.0.7 # for conditioning models and detectors  \n",
    "pip install transformers accelerate safetensors"
   ]
  }
 ],
 "metadata": {
  "kernelspec": {
   "display_name": "Python 3",
   "language": "python",
   "name": "python3"
  },
  "language_info": {
   "codemirror_mode": {
    "name": "ipython",
    "version": 3
   },
   "file_extension": ".py",
   "mimetype": "text/x-python",
   "name": "python",
   "nbconvert_exporter": "python",
   "pygments_lexer": "ipython3",
   "version": "3.6.13"
  }
 },
 "nbformat": 4,
 "nbformat_minor": 5
}
